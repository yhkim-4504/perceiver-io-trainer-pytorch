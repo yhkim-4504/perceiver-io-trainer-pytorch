{
 "cells": [
  {
   "cell_type": "code",
   "execution_count": 1,
   "id": "c5b0f648-539a-4fd4-9896-0deb38f27fe9",
   "metadata": {},
   "outputs": [],
   "source": [
    "import os\n",
    "import torch\n",
    "import numpy as np\n",
    "import matplotlib.pyplot as plt"
   ]
  },
  {
   "cell_type": "code",
   "execution_count": 3,
   "id": "0461fdad-b2e9-47b9-a0d1-cc6b759f2455",
   "metadata": {},
   "outputs": [
    {
     "name": "stdout",
     "output_type": "stream",
     "text": [
      "Wed Sep  1 22:21:43 2021       \n",
      "+-----------------------------------------------------------------------------+\n",
      "| NVIDIA-SMI 471.96       Driver Version: 471.96       CUDA Version: 11.4     |\n",
      "|-------------------------------+----------------------+----------------------+\n",
      "| GPU  Name            TCC/WDDM | Bus-Id        Disp.A | Volatile Uncorr. ECC |\n",
      "| Fan  Temp  Perf  Pwr:Usage/Cap|         Memory-Usage | GPU-Util  Compute M. |\n",
      "|                               |                      |               MIG M. |\n",
      "|===============================+======================+======================|\n",
      "|   0  NVIDIA GeForce ... WDDM  | 00000000:07:00.0  On |                  N/A |\n",
      "|  0%   47C    P8    36W / 370W |  11164MiB / 24576MiB |      7%      Default |\n",
      "|                               |                      |                  N/A |\n",
      "+-------------------------------+----------------------+----------------------+\n",
      "                                                                               \n",
      "+-----------------------------------------------------------------------------+\n",
      "| Processes:                                                                  |\n",
      "|  GPU   GI   CI        PID   Type   Process name                  GPU Memory |\n",
      "|        ID   ID                                                   Usage      |\n",
      "|=============================================================================|\n",
      "|    0   N/A  N/A      1252    C+G   ...kyb3d8bbwe\\Calculator.exe    N/A      |\n",
      "|    0   N/A  N/A      2324    C+G   ...5n1h2txyewy\\SearchApp.exe    N/A      |\n",
      "|    0   N/A  N/A      2380    C+G   ...y\\ShellExperienceHost.exe    N/A      |\n",
      "|    0   N/A  N/A      2440    C+G   ...me\\Application\\chrome.exe    N/A      |\n",
      "|    0   N/A  N/A      4708    C+G   C:\\Windows\\explorer.exe         N/A      |\n",
      "|    0   N/A  N/A      6824      C   ...conda3\\envs\\ml\\python.exe    N/A      |\n",
      "|    0   N/A  N/A      7400    C+G   Insufficient Permissions        N/A      |\n",
      "|    0   N/A  N/A      8592    C+G   ...nputApp\\TextInputHost.exe    N/A      |\n",
      "|    0   N/A  N/A     10828    C+G   ...b3d8bbwe\\WinStore.App.exe    N/A      |\n",
      "|    0   N/A  N/A     13060    C+G   ...cw5n1h2txyewy\\LockApp.exe    N/A      |\n",
      "|    0   N/A  N/A     14892    C+G   ...lPanel\\SystemSettings.exe    N/A      |\n",
      "|    0   N/A  N/A     15200    C+G   ...Files\\Binance\\Binance.exe    N/A      |\n",
      "+-----------------------------------------------------------------------------+\n"
     ]
    }
   ],
   "source": [
    "!nvidia-smi"
   ]
  },
  {
   "cell_type": "code",
   "execution_count": 1,
   "id": "597a76d5-e766-42ee-9099-b8724075fa78",
   "metadata": {
    "scrolled": true,
    "tags": []
   },
   "outputs": [
    {
     "name": "stdout",
     "output_type": "stream",
     "text": [
      "Training with the following device : cuda\n",
      "Creating folder... Path : base1\n",
      "[WinError 183] 파일이 이미 있으므로 만들 수 없습니다: 'base1'\n"
     ]
    },
    {
     "name": "stdin",
     "output_type": "stream",
     "text": [
      "Enter y to delete C:\\Users\\home\\Documents\\Workspace\\github\\perceiver-io-trainer-pytorch-v2\\base1 folder! Otherwise exit :  y\n"
     ]
    },
    {
     "name": "stdout",
     "output_type": "stream",
     "text": [
      "Load y0_list... Done.\n",
      "Found 2 sequences : ['EN', 'MM']\n",
      "--------- 001/2\n",
      "Loading Dataset... Sequence : EN\n",
      "            total_atom_num : 244233, total_dipeptides_num : 7401, atom_num : 33\n",
      "            train_num : 1850, valid_num : 1295, test_num : 555,\n",
      "            x_train_shape : (1850, 51, 80), x_valid_shape : (1295, 51, 80), x_test_shape : (555, 51, 80)\n",
      "            y_train_len : 1850, y_valid_len = 1295, y_test_len = 555\n",
      "            \n",
      "--------- 002/2\n",
      "Loading Dataset... Sequence : MM\n",
      "            total_atom_num : 391830, total_dipeptides_num : 10590, atom_num : 37\n",
      "            train_num : 2648, valid_num : 1853, test_num : 794,\n",
      "            x_train_shape : (2648, 51, 80), x_valid_shape : (1853, 51, 80), x_test_shape : (794, 51, 80)\n",
      "            y_train_len : 2648, y_valid_len = 1853, y_test_len = 794\n",
      "            \n",
      "All Datasets Loaded... Total Dataset : \n",
      "            x_train_shape : (4498, 51, 80), x_valid_shape : (3148, 51, 80), x_test_shape : (1349, 51, 80)\n",
      "            y_train_len : 4498, y_valid_len = 3148, y_test_len = 1349\n",
      "            input_preprocess_values_list : {'EN': {'atom_num': 33, 'type': 'custom_std', 'mean': 0.00015165320577508674, 'std': 9.147343315840497e-06, 'data_shape': (7401, 51, 80)}, 'MM': {'atom_num': 37, 'type': 'custom_std', 'mean': 0.00015165320577508674, 'std': 9.147343315840497e-06, 'data_shape': (10590, 51, 80)}}\n",
      "            \n",
      "Count of model parameters : 55,905\n",
      "Model Loading Done.\n",
      "\n",
      "[Trainer Info]\n",
      "\n",
      "        [Model]\n",
      "dim = 80\n",
      "queries_dim = 80\n",
      "logits_dim = 1\n",
      "depth = 3\n",
      "num_latents = 8\n",
      "latent_dim = 8\n",
      "cross_heads = 1\n",
      "latent_heads = 4\n",
      "cross_dim_head = 32\n",
      "latent_dim_head = 32\n",
      "weight_tie_layers = False\n",
      "self_per_cross_attn = 2\n",
      "Count of model parameters : 55,905\n",
      "Pretrained_model : None\n",
      "\n",
      "        [Train]\n",
      "loss_type : MSELoss()\n",
      "optimizer : AdamW (\n",
      "Parameter Group 0\n",
      "    amsgrad: False\n",
      "    betas: (0.9, 0.999)\n",
      "    eps: 1e-08\n",
      "    initial_lr: 0.0006\n",
      "    lr: 0.0006\n",
      "    weight_decay: 0.01\n",
      ")\n",
      "scheduler : <torch.optim.lr_scheduler.MultiStepLR object at 0x0000021F6C6B7160>\n",
      "scheduler values :\n",
      "{'milestones': Counter({5000: 1, 10000: 1, 15000: 1, 20000: 1}), 'gamma': 0.5, 'base_lrs': [0.0006], 'last_epoch': 0, '_step_count': 1, 'verbose': False, '_get_lr_called_within_step': False, '_last_lr': [0.0006]}\n",
      "epochs : 30000\n",
      "start_epoch : 0\n",
      "epoch_print_range : 200\n",
      "batch_size : 1024\n",
      "torch_dtype : float32\n",
      "model_save_name : base1\n",
      "whether_to_save : True\n",
      "min_chkpoint_epoch : 5000\n",
      "min_val_loss : 100\n",
      "min_rmse_error : 100\n",
      "last_chk_epoch : 0\n",
      "\n",
      "        [Dataset]\n",
      "trainset : x_shape : (4498, 51, 80), y_shape : (4498,), seq_len : 4498\n",
      "validset : x_shape : (3148, 51, 80), y_shape : (3148,), seq_len : 3148\n",
      "testset : x_shape : (1349, 51, 80), y_shape : (1349,), seq_len : 1349\n",
      "max_dset_ratio : 0.5\n",
      "train_val_split : 0.5\n",
      "val_test_split : 0.7\n",
      "input_preprocess_values_list :\n",
      "EN: {'atom_num': 33, 'type': 'custom_std', 'mean': 0.00015165320577508674, 'std': 9.147343315840497e-06, 'data_shape': (7401, 51, 80)}\n",
      "MM: {'atom_num': 37, 'type': 'custom_std', 'mean': 0.00015165320577508674, 'std': 9.147343315840497e-06, 'data_shape': (10590, 51, 80)}\n",
      "\n",
      "y0_list :\n",
      "AA: -4277.971964   AC: -5209.509193   AD: -5694.466589   AE: -5986.849362   AF: -5898.628577   \n",
      "AG: -3985.589191   AH: -5875.692810   AI: -5155.120283   AK: -5565.521556   AL: -5155.120283   \n",
      "AM: -5794.274739   AN: -5526.106933   AP: -4829.327504   AQ: -5818.489706   AR: -6352.914095   \n",
      "AS: -4856.732893   AT: -5149.115666   AV: -4862.737510   AW: -6826.975383   AY: -6477.389506   \n",
      "CA: -5209.509193   CC: -6141.046423   CD: -6626.003818   CE: -6918.386591   CF: -6830.165806   \n",
      "CG: -4917.126420   CH: -6807.230039   CI: -6086.657512   CK: -6497.058785   CL: -6086.657512   \n",
      "CM: -6725.811968   CN: -6457.644162   CP: -5760.864733   CQ: -6750.026935   CR: -7284.451324   \n",
      "CS: -5788.270123   CT: -6080.652895   CV: -5794.274739   CW: -7758.512612   CY: -7408.926735   \n",
      "DA: -5694.466589   DC: -6626.003818   DD: -7110.961214   DE: -7403.343987   DF: -7315.123202   \n",
      "DG: -5402.083816   DH: -7292.187435   DI: -6571.614908   DK: -6982.016181   DL: -6571.614908   \n",
      "DM: -7210.769364   DN: -6942.601558   DP: -6245.822129   DQ: -7234.984331   DR: -7769.408720   \n",
      "DS: -6273.227518   DT: -6565.610291   DV: -6279.232135   DW: -8243.470008   DY: -7893.884131   \n",
      "EA: -5986.849362   EC: -6918.386591   ED: -7403.343987   EE: -7695.726760   EF: -7607.505974   \n",
      "EG: -5694.466589   EH: -7584.570208   EI: -6863.997681   EK: -7274.398954   EL: -6863.997681   \n",
      "EM: -7503.152137   EN: -7234.984331   EP: -6538.204902   EQ: -7527.367104   ER: -8061.791493   \n",
      "ES: -6565.610291   ET: -6857.993064   EV: -6571.614908   EW: -8535.852781   EY: -8186.266904   \n",
      "FA: -5898.628577   FC: -6830.165806   FD: -7315.123202   FE: -7607.505974   FF: -7519.285189   \n",
      "FG: -5606.245804   FH: -7496.349422   FI: -6775.776895   FK: -7186.178168   FL: -6775.776895   \n",
      "FM: -7414.931352   FN: -7146.763545   FP: -6449.984116   FQ: -7439.146318   FR: -7973.570708   \n",
      "FS: -6477.389506   FT: -6769.772279   FV: -6483.394122   FW: -8447.631995   FY: -8098.046118   \n",
      "GA: -3985.589191   GC: -4917.126420   GD: -5402.083816   GE: -5694.466589   GF: -5606.245804   \n",
      "GG: -3693.206418   GH: -5583.310037   GI: -4862.737510   GK: -5273.138783   GL: -4862.737510   \n",
      "GM: -5501.891966   GN: -5233.724160   GP: -4536.944731   GQ: -5526.106933   GR: -6060.531322   \n",
      "GS: -4564.350120   GT: -4856.732893   GV: -4570.354737   GW: -6534.592610   GY: -6185.006733   \n",
      "HA: -5875.692810   HC: -6807.230039   HD: -7292.187435   HE: -7584.570208   HF: -7496.349422   \n",
      "HG: -5583.310037   HH: -7473.413656   HI: -6752.841129   HK: -7163.242401   HL: -6752.841129   \n",
      "HM: -7391.995585   HN: -7123.827779   HP: -6427.048349   HQ: -7416.210551   HR: -7950.634941   \n",
      "HS: -6454.453739   HT: -6746.836512   HV: -6460.458356   HW: -8424.696229   HY: -8075.110351   \n",
      "IA: -5155.120283   IC: -6086.657512   ID: -6571.614908   IE: -6863.997681   IF: -6775.776895   \n",
      "IG: -4862.737510   IH: -6752.841129   II: -6032.268602   IK: -6442.669874   IL: -6032.268602   \n",
      "IM: -6671.423058   IN: -6403.255252   IP: -5673.065816   IQ: -6695.638024   IR: -7230.062414   \n",
      "IS: -5733.881212   IT: -6026.263985   IV: -5739.885829   IW: -7704.123701   IY: -7354.537824   \n",
      "KA: -5565.521556   KC: -6497.058785   KD: -6982.016181   KE: -7274.398954   KF: -7186.178168   \n",
      "KG: -5273.138783   KH: -7163.242401   KI: -6442.669874   KK: -6853.071147   KL: -6442.669874   \n",
      "KM: -7081.824331   KN: -6813.656524   KP: -6116.877095   KQ: -7106.039297   KR: -7640.463687   \n",
      "KS: -6144.282485   KT: -6436.665258   KV: -6150.287102   KW: -8114.524974   KY: -7764.939097   \n",
      "LA: -5155.120283   LC: -6086.657512   LD: -6571.614908   LE: -6863.997681   LF: -6775.776895   \n",
      "LG: -4862.737510   LH: -6752.841129   LI: -6032.268602   LK: -6442.669874   LL: -6032.268602   \n",
      "LM: -6671.423058   LN: -6403.255252   LP: -5706.475822   LQ: -6695.638024   LR: -7230.062414   \n",
      "LS: -5733.881212   LT: -6026.263985   LV: -5739.885829   LW: -7704.123701   LY: -7354.537824   \n",
      "MA: -5794.274739   MC: -6725.811968   MD: -7210.769364   ME: -7503.152137   MF: -7414.931352   \n",
      "MG: -5501.891966   MH: -7391.995585   MI: -6671.423058   MK: -7081.824331   ML: -6671.423058   \n",
      "MM: -7310.577514   MN: -7042.409708   MP: -6345.630279   MQ: -7334.792481   MR: -7869.216870   \n",
      "MS: -6373.035668   MT: -6665.418441   MV: -6379.040285   MW: -8343.278158   MY: -7993.692281   \n",
      "NA: -5526.106933   NC: -6457.644162   ND: -6942.601558   NE: -7234.984331   NF: -7146.763545   \n",
      "NG: -5233.724160   NH: -7123.827779   NI: -6403.255252   NK: -6813.656524   NL: -6403.255252   \n",
      "NM: -7042.409708   NN: -6774.241902   NP: -6077.462472   NQ: -7066.624674   NR: -7601.049064   \n",
      "NS: -6104.867862   NT: -6397.250635   NV: -6110.872479   NW: -8075.110351   NY: -7725.524474   \n",
      "PA: -4829.327504   PC: -5760.864733   PD: -6245.822129   PE: -6538.204902   PF: -6449.984116   \n",
      "PG: -4536.944731   PH: -6427.048349   PI: -5706.475822   PK: -6116.877095   PL: -5706.475822   \n",
      "PM: -6345.630279   PN: -6077.462472   PP: -5380.683043   PQ: -6369.845245   PR: -6904.269635   \n",
      "PS: -5408.088433   PT: -5700.471206   PV: -5414.093050   PW: -7378.330922   PY: -7028.745045   \n",
      "QA: -5818.489706   QC: -6750.026935   QD: -7234.984331   QE: -7527.367104   QF: -7439.146318   \n",
      "QG: -5526.106933   QH: -7416.210551   QI: -6695.638024   QK: -7106.039297   QL: -6695.638024   \n",
      "QM: -7334.792481   QN: -7066.624674   QP: -6369.845245   QQ: -7359.007447   QR: -7893.431837   \n",
      "QS: -6397.250635   QT: -6689.633408   QV: -6403.255252   QW: -8367.493124   QY: -8017.907247   \n",
      "RA: -6352.914095   RC: -7284.451324   RD: -7769.408720   RE: -8061.791493   RF: -7973.570708   \n",
      "RG: -6060.531322   RH: -7950.634941   RI: -7230.062414   RK: -7640.463687   RL: -7230.062414   \n",
      "RM: -7869.216870   RN: -7601.049064   RP: -6904.269635   RQ: -7893.431837   RR: -8427.856226   \n",
      "RS: -6931.675024   RT: -7224.057797   RV: -6937.679641   RW: -8901.917514   RY: -8552.331637   \n",
      "SA: -4856.732893   SC: -5788.270123   SD: -6273.227518   SE: -6565.610291   SF: -6477.389506   \n",
      "SG: -4564.350120   SH: -6454.453739   SI: -5733.881212   SK: -6144.282485   SL: -5733.881212   \n",
      "SM: -6373.035668   SN: -6104.867862   SP: -5408.088433   SQ: -6397.250635   SR: -6931.675024   \n",
      "SS: -5435.493823   ST: -5727.876595   SV: -5441.498439   SW: -7405.736312   SY: -7056.150435   \n",
      "TA: -5149.115666   TC: -6080.652895   TD: -6565.610291   TE: -6857.993064   TF: -6769.772279   \n",
      "TG: -4856.732893   TH: -6746.836512   TI: -6026.263985   TK: -6436.665258   TL: -6026.263985   \n",
      "TM: -6665.418441   TN: -6397.250635   TP: -5667.061200   TQ: -6689.633408   TR: -7224.057797   \n",
      "TS: -5727.876595   TT: -6020.259368   TV: -5733.881212   TW: -7698.119085   TY: -7348.533208   \n",
      "VA: -4862.737510   VC: -5794.274739   VD: -6279.232135   VE: -6571.614908   VF: -6483.394122   \n",
      "VG: -4570.354737   VH: -6460.458356   VI: -5739.885829   VK: -6150.287102   VL: -5739.885829   \n",
      "VM: -6379.040285   VN: -6110.872479   VP: -5414.093050   VQ: -6403.255252   VR: -6937.679641   \n",
      "VS: -5441.498439   VT: -5733.881212   VV: -5447.503056   VW: -7411.740929   VY: -7062.155052   \n",
      "WA: -6826.975383   WC: -7758.512612   WD: -8243.470008   WE: -8535.852781   WF: -8447.631995   \n",
      "WG: -6534.592610   WH: -8424.696229   WI: -7704.123701   WK: -8114.524974   WL: -7704.123701   \n",
      "WM: -8343.278158   WN: -8075.110351   WP: -7378.330922   WQ: -8367.493124   WR: -8901.917514   \n",
      "WS: -7405.736312   WT: -7698.119085   WV: -7411.740929   WW: -9375.978801   WY: -9026.392924   \n",
      "YA: -6477.389506   YC: -7408.926735   YD: -7893.884131   YE: -8186.266904   YF: -8098.046118   \n",
      "YG: -6185.006733   YH: -8075.110351   YI: -7354.537824   YK: -7764.939097   YL: -7354.537824   \n",
      "YM: -7993.692281   YN: -7725.524474   YP: -7028.745045   YQ: -8017.907247   YR: -8552.331637   \n",
      "YS: -7056.150435   YT: -7348.533208   YV: -7062.155052   YW: -9026.392924   YY: -8676.807047   \n",
      "\n",
      "        \n"
     ]
    }
   ],
   "source": [
    "import train\n",
    "import os\n",
    "import numpy as np\n",
    "import matplotlib.pyplot as plt\n",
    "\n",
    "# Load\n",
    "trainer = train.Trainer()\n",
    "trainer.load_dataloader()\n",
    "trainer.load_model(state_dict_path=None)\n",
    "trainer.load_loss_layer()\n",
    "trainer.load_optimizer_scheduler()\n",
    "print('\\n[Trainer Info]')\n",
    "print(trainer)"
   ]
  },
  {
   "cell_type": "code",
   "execution_count": 2,
   "id": "3149a859-511a-4254-a804-5c19e2307c41",
   "metadata": {},
   "outputs": [
    {
     "name": "stdout",
     "output_type": "stream",
     "text": [
      "Epoch:      0/30000 Train_loss: 10.674026 Valid_loss: 7.848069, lr: 0.000600, Min_rmse: 100.000000, Last_chk_epoch: 0, Use_time: 3, Left_time: 00h 00m\n",
      "Mean Absolute Error (MAE) = 2.791452 eV\n",
      "Root Mean Squared Error (RMSE) = 2.795971 eV\n",
      "Root Mean Squared Error (RMSE) = 64.477891 kcal/mol\n"
     ]
    },
    {
     "data": {
      "image/png": "[encoded data removed]",
      "text/plain": [
       "<Figure size 640x480 with 1 Axes>"
      ]
     },
     "metadata": {},
     "output_type": "display_data"
    },
    {
     "name": "stdout",
     "output_type": "stream",
     "text": [
      "Epoch:      4/30000, batch: 001/4, Train_loss: 1.7144116"
     ]
    },
    {
     "ename": "KeyboardInterrupt",
     "evalue": "",
     "output_type": "error",
     "traceback": [
      "\u001b[1;31m---------------------------------------------------------------------------\u001b[0m",
      "\u001b[1;31mKeyboardInterrupt\u001b[0m                         Traceback (most recent call last)",
      "\u001b[1;32m~\\AppData\\Local\\Temp/ipykernel_6824/3489693713.py\u001b[0m in \u001b[0;36m<module>\u001b[1;34m\u001b[0m\n\u001b[0;32m      1\u001b[0m \u001b[0mtrainer\u001b[0m\u001b[1;33m.\u001b[0m\u001b[0mepoch_print_range\u001b[0m \u001b[1;33m=\u001b[0m \u001b[1;36m20\u001b[0m\u001b[1;33m\u001b[0m\u001b[1;33m\u001b[0m\u001b[0m\n\u001b[0;32m      2\u001b[0m \u001b[1;31m# Train\u001b[0m\u001b[1;33m\u001b[0m\u001b[1;33m\u001b[0m\u001b[1;33m\u001b[0m\u001b[0m\n\u001b[1;32m----> 3\u001b[1;33m \u001b[0mtrainer\u001b[0m\u001b[1;33m.\u001b[0m\u001b[0mtrain\u001b[0m\u001b[1;33m(\u001b[0m\u001b[0mprint_plot\u001b[0m\u001b[1;33m=\u001b[0m\u001b[1;32mTrue\u001b[0m\u001b[1;33m)\u001b[0m  \u001b[1;31m# If you are training in Command Line Interface, set print_plot to False.\u001b[0m\u001b[1;33m\u001b[0m\u001b[1;33m\u001b[0m\u001b[0m\n\u001b[0m\u001b[0;32m      4\u001b[0m \u001b[1;33m\u001b[0m\u001b[0m\n\u001b[0;32m      5\u001b[0m \u001b[1;32mif\u001b[0m \u001b[1;32mFalse\u001b[0m\u001b[1;33m:\u001b[0m  \u001b[1;31m# Run this when you want to see plots separately.\u001b[0m\u001b[1;33m\u001b[0m\u001b[1;33m\u001b[0m\u001b[0m\n",
      "\u001b[1;32m~\\Documents\\Workspace\\github\\perceiver-io-trainer-pytorch-v2\\train.py\u001b[0m in \u001b[0;36mtrain\u001b[1;34m(self, print_plot)\u001b[0m\n\u001b[0;32m    152\u001b[0m             \u001b[1;32mfor\u001b[0m \u001b[0mbatch\u001b[0m\u001b[1;33m,\u001b[0m \u001b[1;33m(\u001b[0m\u001b[0mx\u001b[0m\u001b[1;33m,\u001b[0m \u001b[0my\u001b[0m\u001b[1;33m,\u001b[0m \u001b[0mseqs\u001b[0m\u001b[1;33m)\u001b[0m \u001b[1;32min\u001b[0m \u001b[0menumerate\u001b[0m\u001b[1;33m(\u001b[0m\u001b[0mself\u001b[0m\u001b[1;33m.\u001b[0m\u001b[0mtrain_loader\u001b[0m\u001b[1;33m)\u001b[0m\u001b[1;33m:\u001b[0m\u001b[1;33m\u001b[0m\u001b[1;33m\u001b[0m\u001b[0m\n\u001b[0;32m    153\u001b[0m                 \u001b[0mprint\u001b[0m\u001b[1;33m(\u001b[0m\u001b[1;34mf'\\rEpoch: {epoch:6d}/{self.epochs}, batch: {batch+1:03}/{len(self.train_loader)}, Train_loss: {mean_train_loss:.6f}'\u001b[0m\u001b[1;33m,\u001b[0m \u001b[0mend\u001b[0m\u001b[1;33m=\u001b[0m\u001b[1;34m''\u001b[0m\u001b[1;33m)\u001b[0m\u001b[1;33m\u001b[0m\u001b[1;33m\u001b[0m\u001b[0m\n\u001b[1;32m--> 154\u001b[1;33m                 \u001b[0mx\u001b[0m\u001b[1;33m,\u001b[0m \u001b[0my\u001b[0m \u001b[1;33m=\u001b[0m \u001b[0mx\u001b[0m\u001b[1;33m.\u001b[0m\u001b[0mto\u001b[0m\u001b[1;33m(\u001b[0m\u001b[0mdevice\u001b[0m\u001b[1;33m)\u001b[0m\u001b[1;33m,\u001b[0m \u001b[0my\u001b[0m\u001b[1;33m.\u001b[0m\u001b[0mto\u001b[0m\u001b[1;33m(\u001b[0m\u001b[0mdevice\u001b[0m\u001b[1;33m)\u001b[0m\u001b[1;33m\u001b[0m\u001b[1;33m\u001b[0m\u001b[0m\n\u001b[0m\u001b[0;32m    155\u001b[0m                 \u001b[0mmean_train_loss\u001b[0m \u001b[1;33m=\u001b[0m \u001b[0mself\u001b[0m\u001b[1;33m.\u001b[0m\u001b[0mforward_and_update\u001b[0m\u001b[1;33m(\u001b[0m\u001b[0mx\u001b[0m\u001b[1;33m,\u001b[0m \u001b[0my\u001b[0m\u001b[1;33m,\u001b[0m \u001b[0mseqs\u001b[0m\u001b[1;33m,\u001b[0m \u001b[0mtrain_losses\u001b[0m\u001b[1;33m)\u001b[0m\u001b[1;33m\u001b[0m\u001b[1;33m\u001b[0m\u001b[0m\n\u001b[0;32m    156\u001b[0m \u001b[1;33m\u001b[0m\u001b[0m\n",
      "\u001b[1;31mKeyboardInterrupt\u001b[0m: "
     ]
    }
   ],
   "source": [
    "trainer.epoch_print_range = 20\n",
    "# Train\n",
    "trainer.train(print_plot=True)  # If you are training in Command Line Interface, set print_plot to False.\n",
    "\n",
    "if False:  # Run this when you want to see plots separately.\n",
    "    print('Testset RMSE Error Plot')\n",
    "    trainer.plot_dataset(trainer.test_loader)\n",
    "    trainer.plot_losses()"
   ]
  },
  {
   "cell_type": "code",
   "execution_count": null,
   "id": "97b232e7-97a9-4d54-92ac-47ec91d46a5c",
   "metadata": {},
   "outputs": [],
   "source": [
    "y = trainer.trainset[:][1].squeeze().tolist()\n",
    "x = range(len(y))\n",
    "\n",
    "plt.figure(figsize=(15,15))\n",
    "plt.scatter(x, y)\n",
    "plt.yticks(range(-15, 15, 5))\n",
    "plt.show()"
   ]
  },
  {
   "cell_type": "code",
   "execution_count": 4,
   "id": "5c23e7f8-a8d0-493c-bed6-b4bc148b40b6",
   "metadata": {},
   "outputs": [
    {
     "data": {
      "text/plain": [
       "{'EN': {'atom_num': 33,\n",
       "  'type': 'standardization',\n",
       "  'mean': 0.00014717476554013416,\n",
       "  'std': 0.00020725475327084428,\n",
       "  'data_shape': (7401, 51, 80)},\n",
       " 'MM': {'atom_num': 37,\n",
       "  'type': 'standardization',\n",
       "  'mean': 0.00014560315875871284,\n",
       "  'std': 0.00020932520590437315,\n",
       "  'data_shape': (10590, 51, 80)}}"
      ]
     },
     "execution_count": 4,
     "metadata": {},
     "output_type": "execute_result"
    }
   ],
   "source": [
    "trainer.input_preprocess_values_list"
   ]
  },
  {
   "cell_type": "code",
   "execution_count": 59,
   "id": "c98d62ee-c382-4e73-9077-4bea8152c40b",
   "metadata": {},
   "outputs": [],
   "source": [
    "batch_x, y, seqs = next(iter(trainer.train_loader))"
   ]
  },
  {
   "cell_type": "code",
   "execution_count": 50,
   "id": "9a3940ce-0916-4771-9078-ac1f792dd6b4",
   "metadata": {},
   "outputs": [],
   "source": [
    "batch_x = batch_x.reshape(-1, 1, batch_x.shape[-1])"
   ]
  },
  {
   "cell_type": "code",
   "execution_count": 43,
   "id": "75dfbd61-aa85-41c9-9c00-6922330dfed4",
   "metadata": {},
   "outputs": [],
   "source": [
    "batch_x = batch_x.reshape(-1,x.shape[-1])\n",
    "# y = y.to(device)\n",
    "\n",
    "# queries = torch.ones(len(batch_x), 1, 80).to(device)\n",
    "# predicted = trainer.model(batch_x, queries=queries).squeeze()"
   ]
  },
  {
   "cell_type": "code",
   "execution_count": 48,
   "id": "7bee10b6-05e2-47c7-bfea-d8b573e641f6",
   "metadata": {},
   "outputs": [
    {
     "ename": "RuntimeError",
     "evalue": "The size of tensor a (2088960) must match the size of tensor b (80) at non-singleton dimension 0",
     "output_type": "error",
     "traceback": [
      "\u001b[1;31m---------------------------------------------------------------------------\u001b[0m",
      "\u001b[1;31mRuntimeError\u001b[0m                              Traceback (most recent call last)",
      "\u001b[1;32m~\\AppData\\Local\\Temp/ipykernel_3160/3705044584.py\u001b[0m in \u001b[0;36m<module>\u001b[1;34m\u001b[0m\n\u001b[1;32m----> 1\u001b[1;33m \u001b[0mbatch_x\u001b[0m\u001b[1;33m.\u001b[0m\u001b[0mreshape\u001b[0m\u001b[1;33m(\u001b[0m\u001b[1;33m-\u001b[0m\u001b[1;36m1\u001b[0m\u001b[1;33m)\u001b[0m \u001b[1;33m==\u001b[0m \u001b[0mtorch\u001b[0m\u001b[1;33m.\u001b[0m\u001b[0mzeros\u001b[0m\u001b[1;33m(\u001b[0m\u001b[1;36m80\u001b[0m\u001b[1;33m)\u001b[0m\u001b[1;33m\u001b[0m\u001b[1;33m\u001b[0m\u001b[0m\n\u001b[0m",
      "\u001b[1;31mRuntimeError\u001b[0m: The size of tensor a (2088960) must match the size of tensor b (80) at non-singleton dimension 0"
     ]
    }
   ],
   "source": [
    "batch_x.reshape(-1) == torch.zeros(80)"
   ]
  },
  {
   "cell_type": "code",
   "execution_count": 19,
   "id": "96ce90f6-2ad5-41f2-9ea7-84b1b36b877b",
   "metadata": {},
   "outputs": [
    {
     "data": {
      "text/plain": [
       "torch.Size([26112, 1, 80])"
      ]
     },
     "execution_count": 19,
     "metadata": {},
     "output_type": "execute_result"
    }
   ],
   "source": [
    "(batch_x==torch.zeros(1, 80).to(device))"
   ]
  },
  {
   "cell_type": "code",
   "execution_count": 20,
   "id": "bb834e8a-cbd4-4d38-8a36-5a740243a3d9",
   "metadata": {},
   "outputs": [],
   "source": [
    "zero_index = []\n",
    "for x in batch_x:\n",
    "    tf = (x==torch.zeros(1, 80).to(device)).all()\n",
    "    zero_index.append(tf)"
   ]
  },
  {
   "cell_type": "code",
   "execution_count": 151,
   "id": "07e686fa-d1a6-40d7-83d5-e24882c2b557",
   "metadata": {},
   "outputs": [
    {
     "data": {
      "text/plain": [
       "array([    0,     1,     2, ..., 26109, 26110, 26111])"
      ]
     },
     "execution_count": 151,
     "metadata": {},
     "output_type": "execute_result"
    }
   ],
   "source": [
    "np.unique(a.tolist())"
   ]
  },
  {
   "cell_type": "code",
   "execution_count": 144,
   "id": "e0e54655-c58b-4058-a2a6-2c4a5322a082",
   "metadata": {},
   "outputs": [
    {
     "data": {
      "text/plain": [
       "torch.Size([718832, 1, 80])"
      ]
     },
     "execution_count": 144,
     "metadata": {},
     "output_type": "execute_result"
    }
   ],
   "source": [
    "batch_x[a]"
   ]
  },
  {
   "cell_type": "code",
   "execution_count": 61,
   "id": "d8da9a42-d71e-45e1-9a1e-9c665355e478",
   "metadata": {},
   "outputs": [
    {
     "data": {
      "text/plain": [
       "torch.Size([512])"
      ]
     },
     "execution_count": 61,
     "metadata": {},
     "output_type": "execute_result"
    }
   ],
   "source": [
    "batch_x, y, seqs = next(iter(trainer.train_loader))\n",
    "batch_x = batch_x.reshape(-1, 1, batch_x.shape[-1]).to(device)\n",
    "\n",
    "queries = torch.ones(len(batch_x), 1, 80).to(device)\n",
    "predicted = trainer.model(batch_x, queries=queries).squeeze()\n",
    "\n",
    "index = 0\n",
    "predicted_total_energies = torch.Tensor().to(device)\n",
    "for seq in seqs:\n",
    "    atom_num = trainer.input_preprocess_values_list[seq]['atom_num']\n",
    "    predicted_total_energies = torch.hstack([predicted_total_energies, torch.sum(predicted[index:index+atom_num])])\n",
    "    index += 51\n",
    "    \n",
    "predicted_total_energies.shape"
   ]
  },
  {
   "cell_type": "code",
   "execution_count": 58,
   "id": "0309c4d2-948a-4f56-931e-1f164826ddf3",
   "metadata": {},
   "outputs": [
    {
     "data": {
      "text/plain": [
       "torch.Size([512])"
      ]
     },
     "execution_count": 58,
     "metadata": {},
     "output_type": "execute_result"
    }
   ],
   "source": [
    "predicted_total_energies.shape"
   ]
  },
  {
   "cell_type": "code",
   "execution_count": 63,
   "id": "96f16120-8076-46b8-a2bf-f10b12d7e682",
   "metadata": {},
   "outputs": [
    {
     "data": {
      "text/plain": [
       "torch.Size([512, 1])"
      ]
     },
     "execution_count": 63,
     "metadata": {},
     "output_type": "execute_result"
    }
   ],
   "source": [
    "predicted_total_energies.shape"
   ]
  },
  {
   "cell_type": "code",
   "execution_count": 64,
   "id": "17d1dea7-4c20-4ad2-8a44-6f79809581c0",
   "metadata": {},
   "outputs": [
    {
     "data": {
      "text/plain": [
       "tensor(12.9193, device='cuda:0', grad_fn=<MseLossBackward>)"
      ]
     },
     "execution_count": 64,
     "metadata": {},
     "output_type": "execute_result"
    }
   ],
   "source": [
    "trainer.loss(predicted_total_energies, y)"
   ]
  }
 ],
 "metadata": {
  "kernelspec": {
   "display_name": "Python 3 (ipykernel)",
   "language": "python",
   "name": "python3"
  },
  "language_info": {
   "codemirror_mode": {
    "name": "ipython",
    "version": 3
   },
   "file_extension": ".py",
   "mimetype": "text/x-python",
   "name": "python",
   "nbconvert_exporter": "python",
   "pygments_lexer": "ipython3",
   "version": "3.9.6"
  }
 },
 "nbformat": 4,
 "nbformat_minor": 5
}
